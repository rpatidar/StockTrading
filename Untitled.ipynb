{
 "cells": [
  {
   "cell_type": "code",
   "execution_count": 1,
   "metadata": {},
   "outputs": [],
   "source": [
    "import pandas as pd"
   ]
  },
  {
   "cell_type": "code",
   "execution_count": 4,
   "metadata": {},
   "outputs": [],
   "source": [
    "data = [{'high' : 1, 'low': 0, 'open': 0.2, 'close': 0.5, 'volume': 100}]"
   ]
  },
  {
   "cell_type": "code",
   "execution_count": 5,
   "metadata": {},
   "outputs": [],
   "source": [
    "df = pd.DataFrame.from_dict(data, orient='columns', dtype=None)"
   ]
  },
  {
   "cell_type": "code",
   "execution_count": 6,
   "metadata": {},
   "outputs": [
    {
     "data": {
      "text/html": [
       "<div>\n",
       "<style scoped>\n",
       "    .dataframe tbody tr th:only-of-type {\n",
       "        vertical-align: middle;\n",
       "    }\n",
       "\n",
       "    .dataframe tbody tr th {\n",
       "        vertical-align: top;\n",
       "    }\n",
       "\n",
       "    .dataframe thead th {\n",
       "        text-align: right;\n",
       "    }\n",
       "</style>\n",
       "<table border=\"1\" class=\"dataframe\">\n",
       "  <thead>\n",
       "    <tr style=\"text-align: right;\">\n",
       "      <th></th>\n",
       "      <th>close</th>\n",
       "      <th>high</th>\n",
       "      <th>low</th>\n",
       "      <th>open</th>\n",
       "      <th>volume</th>\n",
       "    </tr>\n",
       "  </thead>\n",
       "  <tbody>\n",
       "    <tr>\n",
       "      <th>0</th>\n",
       "      <td>0.5</td>\n",
       "      <td>1</td>\n",
       "      <td>0</td>\n",
       "      <td>0.2</td>\n",
       "      <td>100</td>\n",
       "    </tr>\n",
       "  </tbody>\n",
       "</table>\n",
       "</div>"
      ],
      "text/plain": [
       "   close  high  low  open  volume\n",
       "0    0.5     1    0   0.2     100"
      ]
     },
     "execution_count": 6,
     "metadata": {},
     "output_type": "execute_result"
    }
   ],
   "source": [
    "df"
   ]
  },
  {
   "cell_type": "code",
   "execution_count": 7,
   "metadata": {},
   "outputs": [
    {
     "data": {
      "text/plain": [
       "0    1\n",
       "Name: high, dtype: int64"
      ]
     },
     "execution_count": 7,
     "metadata": {},
     "output_type": "execute_result"
    }
   ],
   "source": [
    "df.high"
   ]
  },
  {
   "cell_type": "code",
   "execution_count": 8,
   "metadata": {},
   "outputs": [
    {
     "data": {
      "text/plain": [
       "array([1])"
      ]
     },
     "execution_count": 8,
     "metadata": {},
     "output_type": "execute_result"
    }
   ],
   "source": [
    "df.high.values"
   ]
  },
  {
   "cell_type": "code",
   "execution_count": 9,
   "metadata": {},
   "outputs": [
    {
     "data": {
      "text/plain": [
       "'   close  high  low  open  volume\\n0    0.5     1    0   0.2     100'"
      ]
     },
     "execution_count": 9,
     "metadata": {},
     "output_type": "execute_result"
    }
   ],
   "source": [
    "df.to_string()"
   ]
  },
  {
   "cell_type": "code",
   "execution_count": 10,
   "metadata": {},
   "outputs": [
    {
     "name": "stdout",
     "output_type": "stream",
     "text": [
      "   close  high  low  open  volume\n",
      "0    0.5     1    0   0.2     100\n"
     ]
    }
   ],
   "source": [
    "print(df.to_string())"
   ]
  },
  {
   "cell_type": "code",
   "execution_count": 1,
   "metadata": {},
   "outputs": [],
   "source": [
    "from talipp.indicators import EMA, SMA, Stoch\n"
   ]
  },
  {
   "cell_type": "code",
   "execution_count": 11,
   "metadata": {},
   "outputs": [
    {
     "data": {
      "text/plain": [
       "[(datetime.date(2017, 1, 2), datetime.date(2017, 1, 2)),\n",
       " (datetime.date(2017, 1, 3), datetime.date(2017, 1, 3)),\n",
       " (datetime.date(2017, 1, 4), datetime.date(2017, 1, 4)),\n",
       " (datetime.date(2017, 1, 5), datetime.date(2017, 1, 5)),\n",
       " (datetime.date(2017, 1, 6), datetime.date(2017, 1, 6)),\n",
       " (datetime.date(2017, 1, 7), datetime.date(2017, 1, 7)),\n",
       " (datetime.date(2017, 1, 8), datetime.date(2017, 1, 8)),\n",
       " (datetime.date(2017, 1, 9), datetime.date(2017, 1, 9)),\n",
       " (datetime.date(2017, 1, 10), datetime.date(2017, 1, 10)),\n",
       " (datetime.date(2017, 1, 11), datetime.date(2017, 1, 11)),\n",
       " (datetime.date(2017, 1, 12), datetime.date(2017, 1, 12)),\n",
       " (datetime.date(2017, 1, 13), datetime.date(2017, 1, 13)),\n",
       " (datetime.date(2017, 1, 14), datetime.date(2017, 1, 14)),\n",
       " (datetime.date(2017, 1, 15), datetime.date(2017, 1, 15)),\n",
       " (datetime.date(2017, 1, 16), datetime.date(2017, 1, 16)),\n",
       " (datetime.date(2017, 1, 17), datetime.date(2017, 1, 17)),\n",
       " (datetime.date(2017, 1, 18), datetime.date(2017, 1, 18)),\n",
       " (datetime.date(2017, 1, 19), datetime.date(2017, 1, 19)),\n",
       " (datetime.date(2017, 1, 20), datetime.date(2017, 1, 20)),\n",
       " (datetime.date(2017, 1, 21), datetime.date(2017, 1, 21)),\n",
       " (datetime.date(2017, 1, 22), datetime.date(2017, 1, 22)),\n",
       " (datetime.date(2017, 1, 23), datetime.date(2017, 1, 23)),\n",
       " (datetime.date(2017, 1, 24), datetime.date(2017, 1, 24)),\n",
       " (datetime.date(2017, 1, 25), datetime.date(2017, 1, 25)),\n",
       " (datetime.date(2017, 1, 26), datetime.date(2017, 1, 26)),\n",
       " (datetime.date(2017, 1, 27), datetime.date(2017, 1, 27)),\n",
       " (datetime.date(2017, 1, 28), datetime.date(2017, 1, 28)),\n",
       " (datetime.date(2017, 1, 29), datetime.date(2017, 1, 29)),\n",
       " (datetime.date(2017, 1, 30), datetime.date(2017, 1, 30)),\n",
       " (datetime.date(2017, 1, 31), datetime.date(2017, 1, 31)),\n",
       " (datetime.date(2017, 2, 1), datetime.date(2017, 2, 1)),\n",
       " (datetime.date(2017, 2, 2), datetime.date(2017, 2, 2)),\n",
       " (datetime.date(2017, 2, 3), datetime.date(2017, 2, 3)),\n",
       " (datetime.date(2017, 2, 4), datetime.date(2017, 2, 4)),\n",
       " (datetime.date(2017, 2, 5), datetime.date(2017, 2, 5)),\n",
       " (datetime.date(2017, 2, 6), datetime.date(2017, 2, 6)),\n",
       " (datetime.date(2017, 2, 7), datetime.date(2017, 2, 7)),\n",
       " (datetime.date(2017, 2, 8), datetime.date(2017, 2, 8)),\n",
       " (datetime.date(2017, 2, 9), datetime.date(2017, 2, 9)),\n",
       " (datetime.date(2017, 2, 10), datetime.date(2017, 2, 10)),\n",
       " (datetime.date(2017, 2, 11), datetime.date(2017, 2, 11)),\n",
       " (datetime.date(2017, 2, 12), datetime.date(2017, 2, 12)),\n",
       " (datetime.date(2017, 2, 13), datetime.date(2017, 2, 13)),\n",
       " (datetime.date(2017, 2, 14), datetime.date(2017, 2, 14)),\n",
       " (datetime.date(2017, 2, 15), datetime.date(2017, 2, 15)),\n",
       " (datetime.date(2017, 2, 16), datetime.date(2017, 2, 16)),\n",
       " (datetime.date(2017, 2, 17), datetime.date(2017, 2, 17)),\n",
       " (datetime.date(2017, 2, 18), datetime.date(2017, 2, 18)),\n",
       " (datetime.date(2017, 2, 19), datetime.date(2017, 2, 19)),\n",
       " (datetime.date(2017, 2, 20), datetime.date(2017, 2, 20)),\n",
       " (datetime.date(2017, 2, 21), datetime.date(2017, 2, 21)),\n",
       " (datetime.date(2017, 2, 22), datetime.date(2017, 2, 22)),\n",
       " (datetime.date(2017, 2, 23), datetime.date(2017, 2, 23)),\n",
       " (datetime.date(2017, 2, 24), datetime.date(2017, 2, 24)),\n",
       " (datetime.date(2017, 2, 25), datetime.date(2017, 2, 25)),\n",
       " (datetime.date(2017, 2, 26), datetime.date(2017, 2, 26)),\n",
       " (datetime.date(2017, 2, 27), datetime.date(2017, 2, 27)),\n",
       " (datetime.date(2017, 2, 28), datetime.date(2017, 2, 28)),\n",
       " (datetime.date(2017, 3, 1), datetime.date(2017, 3, 1)),\n",
       " (datetime.date(2017, 3, 2), datetime.date(2017, 3, 2))]"
      ]
     },
     "execution_count": 11,
     "metadata": {},
     "output_type": "execute_result"
    }
   ],
   "source": [
    "def date_ranges(d1_str, d2_str, days=60):\n",
    "    format_str = '%Y-%m-%d'  # The format\n",
    "    d1_date = datetime.datetime.strptime(d1_str, format_str) if type(d1_str) == str else d1_str\n",
    "    d2_date = datetime.datetime.strptime(d2_str, format_str) if type(d2_str) == str else d2_str\n",
    "\n",
    "    if type(d1_date) == datetime.date:\n",
    "        d1_date = datetime.datetime(\n",
    "            year=d1_date.year,\n",
    "            month=d1_date.month,\n",
    "            day=d1_date.day,\n",
    "        )\n",
    "        d2_date = datetime.datetime(\n",
    "            year=d2_date.year,\n",
    "            month=d2_date.month,\n",
    "            day=d2_date.day,\n",
    "        )\n",
    "\n",
    "    from datetime import timedelta\n",
    "    diffdays = (d2_date - d1_date).days\n",
    "    last_start = 0\n",
    "    dlist = []\n",
    "    first = True\n",
    "    for r in range(0, diffdays + days, days):\n",
    "        #print(r)\n",
    "        next_date = min(r, diffdays)\n",
    "        if first or next_date >= last_start:\n",
    "            dlist.append(((d1_date + timedelta(days=last_start)).date(), (d1_date + timedelta(days=next_date)).date()))\n",
    "        last_start = next_date + 1\n",
    "        first = False\n",
    "    return dlist\n",
    "\n",
    "import datetime\n",
    "date_ranges(\"2017-01-02\", \"2017-03-02\", days=1)"
   ]
  },
  {
   "cell_type": "code",
   "execution_count": 3,
   "metadata": {},
   "outputs": [
    {
     "data": {
      "text/plain": [
       "[(datetime.date(2017, 1, 2), datetime.date(2017, 1, 2)),\n",
       " (datetime.date(2017, 1, 3), datetime.date(2017, 3, 2))]"
      ]
     },
     "execution_count": 3,
     "metadata": {},
     "output_type": "execute_result"
    }
   ],
   "source": [
    "\n"
   ]
  },
  {
   "cell_type": "code",
   "execution_count": null,
   "metadata": {},
   "outputs": [],
   "source": []
  }
 ],
 "metadata": {
  "kernelspec": {
   "display_name": "Python 3",
   "language": "python",
   "name": "python3"
  },
  "language_info": {
   "codemirror_mode": {
    "name": "ipython",
    "version": 3
   },
   "file_extension": ".py",
   "mimetype": "text/x-python",
   "name": "python",
   "nbconvert_exporter": "python",
   "pygments_lexer": "ipython3",
   "version": "3.6.11"
  }
 },
 "nbformat": 4,
 "nbformat_minor": 4
}
